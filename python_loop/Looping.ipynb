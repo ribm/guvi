{
 "cells": [
  {
   "cell_type": "markdown",
   "metadata": {},
   "source": [
    "#### Write a program to print all natural numbers from 1 to n. - using while loop"
   ]
  },
  {
   "cell_type": "code",
   "execution_count": 6,
   "metadata": {},
   "outputs": [
    {
     "name": "stdout",
     "output_type": "stream",
     "text": [
      "please enter the number5\n",
      "1\n",
      "2\n",
      "3\n",
      "4\n",
      "5\n"
     ]
    }
   ],
   "source": [
    "N = int(input(\"please enter the number\"))\n",
    "n = 1\n",
    "while n <= N:\n",
    "    print(n)\n",
    "    n+=1"
   ]
  },
  {
   "cell_type": "markdown",
   "metadata": {},
   "source": [
    "#### Write a program to print all natural numbers in reverse (from n to 1). - using while loop"
   ]
  },
  {
   "cell_type": "code",
   "execution_count": 10,
   "metadata": {},
   "outputs": [
    {
     "name": "stdout",
     "output_type": "stream",
     "text": [
      "please enter the number5\n",
      "5\n",
      "4\n",
      "3\n",
      "2\n",
      "1\n"
     ]
    }
   ],
   "source": [
    "N0 = int(input(\"please enter the number\"))\n",
    "n = 1\n",
    "while n <= N0:\n",
    "    print(N0)\n",
    "    N0-=1"
   ]
  },
  {
   "cell_type": "markdown",
   "metadata": {},
   "source": [
    "#### Write a program to print all alphabets from a to z. - using while loop"
   ]
  },
  {
   "cell_type": "code",
   "execution_count": 12,
   "metadata": {},
   "outputs": [
    {
     "name": "stdout",
     "output_type": "stream",
     "text": [
      "A B C D E F G H I J K L M N O P Q R S T U V W X Y Z [ "
     ]
    }
   ],
   "source": [
    "n = 65\n",
    "while n<=91:\n",
    "    \n",
    "    print(chr(n), end = \" \");\n",
    "    n+=1\n",
    "    \n",
    "    \n",
    "\n"
   ]
  },
  {
   "cell_type": "markdown",
   "metadata": {},
   "source": [
    "####Write a program to print all even numbers between 1 to 100. - using while loop.\n",
    "##Write a program to print all odd number between 1 to 100. Write a program to find sum of all natural numbers between 1 to n. ##Write a program to find sum of all even numbers between 1 to n. Write a program to find sum of all odd numbers between 1 to ##n. Write a program to print multiplication table of any number. Write a program to count number of digits in a number. "
   ]
  },
  {
   "cell_type": "markdown",
   "metadata": {},
   "source": []
  },
  {
   "cell_type": "code",
   "execution_count": null,
   "metadata": {},
   "outputs": [],
   "source": [
    "##even\n",
    "x = 0\n",
    "for n in range(1,100):\n",
    "    if n%2==0:\n",
    "        x+=n\n",
    "        \n",
    "        print(n)\n",
    "        print(x)\n",
    "        \n",
    "##odd\n",
    "x = 0\n",
    "for n in range(1,100):\n",
    "    if n%2==1:\n",
    "        x+=n\n",
    "        \n",
    "        print(n)\n",
    "        print(x)\n",
    "\n",
    "N1 = int(input(\"please enter the number\"))\n",
    "x =0\n",
    "for n in range(1,n):\n",
    "    x+=n\n",
    "    \n",
    "print(x)\n",
    "    \n",
    "        "
   ]
  },
  {
   "cell_type": "code",
   "execution_count": 13,
   "metadata": {},
   "outputs": [
    {
     "name": "stdout",
     "output_type": "stream",
     "text": [
      "please enter the number8\n",
      "8\n",
      "16\n",
      "24\n",
      "32\n",
      "40\n",
      "48\n",
      "56\n",
      "64\n",
      "72\n",
      "80\n"
     ]
    }
   ],
   "source": [
    "N1 = int(input(\"please enter the number\"))\n",
    "for n in range(1,11):\n",
    "    print(N1*n)"
   ]
  },
  {
   "cell_type": "markdown",
   "metadata": {},
   "source": [
    "#### Write a program to count number of digits in a number."
   ]
  },
  {
   "cell_type": "code",
   "execution_count": 18,
   "metadata": {},
   "outputs": [
    {
     "name": "stdout",
     "output_type": "stream",
     "text": [
      "please enter the number12345\n",
      "5\n"
     ]
    }
   ],
   "source": [
    "N2 = int(input(\"please enter the number....\"))\n",
    "print(len(str(N2)))"
   ]
  },
  {
   "cell_type": "markdown",
   "metadata": {},
   "source": [
    "#### Write a program to find first and last digit of a number."
   ]
  },
  {
   "cell_type": "code",
   "execution_count": 24,
   "metadata": {},
   "outputs": [
    {
     "name": "stdout",
     "output_type": "stream",
     "text": [
      "please enter the number....1234567\n",
      "1 7\n"
     ]
    }
   ],
   "source": [
    "N3 = int(input(\"please enter the number....\"))\n",
    "N3 = str(N3)\n",
    "Last = len(N3)-1\n",
    "print(N3[0], N3[Last])"
   ]
  },
  {
   "cell_type": "code",
   "execution_count": 26,
   "metadata": {},
   "outputs": [
    {
     "name": "stdout",
     "output_type": "stream",
     "text": [
      "please enter the number....123456\n",
      "7\n"
     ]
    }
   ],
   "source": [
    "N4 = int(input(\"please enter the number....\"))\n",
    "N4 = str(N4)\n",
    "Last = len(N4)-1\n",
    "print(int(N4[0]) + int( N4[Last]))"
   ]
  },
  {
   "cell_type": "markdown",
   "metadata": {},
   "source": [
    "#### Write a program to swap first and last digits of a number.\n",
    "#### Write a program to enter a number and print its reverse"
   ]
  },
  {
   "cell_type": "code",
   "execution_count": 43,
   "metadata": {},
   "outputs": [
    {
     "name": "stdout",
     "output_type": "stream",
     "text": [
      "please enter the number....1.45678\n"
     ]
    },
    {
     "ename": "ValueError",
     "evalue": "invalid literal for int() with base 10: '1.45678'",
     "output_type": "error",
     "traceback": [
      "\u001b[1;31m---------------------------------------------------------------------------\u001b[0m",
      "\u001b[1;31mValueError\u001b[0m                                Traceback (most recent call last)",
      "\u001b[1;32m<ipython-input-43-2898d3948241>\u001b[0m in \u001b[0;36m<module>\u001b[1;34m\u001b[0m\n\u001b[1;32m----> 1\u001b[1;33m \u001b[0mN5\u001b[0m \u001b[1;33m=\u001b[0m \u001b[0mint\u001b[0m\u001b[1;33m(\u001b[0m\u001b[0minput\u001b[0m\u001b[1;33m(\u001b[0m\u001b[1;34m\"please enter the number....\"\u001b[0m\u001b[1;33m)\u001b[0m\u001b[1;33m)\u001b[0m\u001b[1;33m\u001b[0m\u001b[1;33m\u001b[0m\u001b[0m\n\u001b[0m\u001b[0;32m      2\u001b[0m \u001b[0mN5\u001b[0m \u001b[1;33m=\u001b[0m \u001b[0mstr\u001b[0m\u001b[1;33m(\u001b[0m\u001b[0mN5\u001b[0m\u001b[1;33m)\u001b[0m\u001b[1;33m\u001b[0m\u001b[1;33m\u001b[0m\u001b[0m\n\u001b[0;32m      3\u001b[0m \u001b[1;31m##12345\u001b[0m\u001b[1;33m\u001b[0m\u001b[1;33m\u001b[0m\u001b[1;33m\u001b[0m\u001b[0m\n\u001b[0;32m      4\u001b[0m \u001b[0mprint\u001b[0m\u001b[1;33m(\u001b[0m\u001b[0mint\u001b[0m\u001b[1;33m(\u001b[0m\u001b[0mN5\u001b[0m\u001b[1;33m[\u001b[0m\u001b[1;33m-\u001b[0m\u001b[1;36m1\u001b[0m\u001b[1;33m:\u001b[0m\u001b[1;33m]\u001b[0m\u001b[1;33m+\u001b[0m\u001b[0mN5\u001b[0m\u001b[1;33m[\u001b[0m\u001b[1;36m1\u001b[0m\u001b[1;33m:\u001b[0m\u001b[1;33m-\u001b[0m\u001b[1;36m1\u001b[0m\u001b[1;33m]\u001b[0m\u001b[1;33m+\u001b[0m\u001b[0mN5\u001b[0m\u001b[1;33m[\u001b[0m\u001b[1;33m:\u001b[0m\u001b[1;36m1\u001b[0m\u001b[1;33m]\u001b[0m\u001b[1;33m)\u001b[0m\u001b[1;33m)\u001b[0m\u001b[1;33m\u001b[0m\u001b[1;33m\u001b[0m\u001b[0m\n\u001b[0;32m      5\u001b[0m \u001b[0mprint\u001b[0m\u001b[1;33m(\u001b[0m\u001b[0mint\u001b[0m\u001b[1;33m(\u001b[0m\u001b[0mN5\u001b[0m\u001b[1;33m[\u001b[0m\u001b[1;33m:\u001b[0m\u001b[1;33m:\u001b[0m\u001b[1;33m-\u001b[0m\u001b[1;36m1\u001b[0m\u001b[1;33m]\u001b[0m\u001b[1;33m)\u001b[0m \u001b[1;33m)\u001b[0m\u001b[1;33m\u001b[0m\u001b[1;33m\u001b[0m\u001b[0m\n",
      "\u001b[1;31mValueError\u001b[0m: invalid literal for int() with base 10: '1.45678'"
     ]
    }
   ],
   "source": [
    "N5 = int(input(\"please enter the number....\"))\n",
    "N5 = str(N5)\n",
    "##12345\n",
    "print(int(N5[-1:]+N5[1:-1]+N5[:1]))\n",
    "print(int(N5[::-1]) )  \n"
   ]
  },
  {
   "cell_type": "markdown",
   "metadata": {},
   "source": [
    "#### Write a program to print all ASCII character with their values."
   ]
  },
  {
   "cell_type": "code",
   "execution_count": 33,
   "metadata": {},
   "outputs": [
    {
     "name": "stdout",
     "output_type": "stream",
     "text": [
      "enter the value123\n",
      "49\n",
      "50\n",
      "51\n"
     ]
    }
   ],
   "source": [
    "N6 = input(\"enter the value\")\n",
    "\n",
    "for n in N6:\n",
    "    print(ord(n), \"Asci value is\")"
   ]
  },
  {
   "cell_type": "markdown",
   "metadata": {},
   "source": [
    "#### Write a program to find HCF (GCD) of two numbers. Write a program to find LCM of two numbers. "
   ]
  },
  {
   "cell_type": "code",
   "execution_count": 40,
   "metadata": {},
   "outputs": [
    {
     "name": "stdout",
     "output_type": "stream",
     "text": [
      "enter the 1st number12\n",
      "enter the 2nd number36\n",
      "12\n"
     ]
    }
   ],
   "source": [
    "N7 = int(input(\"enter the 1st number\"))\n",
    "N8 = int(input(\"enter the 2nd number\"))\n",
    "if N7 > N8:\n",
    "        smaller = N8\n",
    "else:\n",
    "    smaller = N7\n",
    "for i in range(1, smaller+1):\n",
    "    if((N7 % i == 0) and (N8 % i == 0)):\n",
    "        hcf = i \n",
    "print(hcf)\n",
    "        "
   ]
  },
  {
   "cell_type": "code",
   "execution_count": 47,
   "metadata": {},
   "outputs": [
    {
     "name": "stdout",
     "output_type": "stream",
     "text": [
      "enter the 1st number12\n",
      "enter the 2nd number13\n",
      "156\n"
     ]
    }
   ],
   "source": [
    "N9 = int(input(\"enter the 1st number\"))\n",
    "N10 = int(input(\"enter the 2nd number\"))\n",
    "\n",
    "\n",
    "if N9>N10:\n",
    "    greater = N9\n",
    "else:\n",
    "    greater = N10\n",
    "while (True):\n",
    "    if((greater%N9==0) and (greater%N10==0)):\n",
    "        \n",
    "        lcm=greater\n",
    "        break\n",
    "    greater+=1\n",
    "print(greater)\n",
    "        "
   ]
  },
  {
   "cell_type": "markdown",
   "metadata": {},
   "source": [
    "#### Write a program to find one's complement of a binary numbe"
   ]
  },
  {
   "cell_type": "code",
   "execution_count": null,
   "metadata": {},
   "outputs": [],
   "source": [
    "num = int(input(\"enter a decimal number: \"))\n",
    "print(\"\\nbinary form is \", bin(num))\n",
    "\n",
    "\n",
    "\n",
    "\n",
    "num = int(input(\"enter a decimal number: \"))\n",
    " \n",
    "print(\"\\noctal form is \", oct(num))\n",
    "\n",
    "\n",
    "num = int(input(\"enter a decimal number: \"))\n",
    " \n",
    "print(\"\\nhexadecimal form is \", hex(num))\n",
    "\n",
    "\n",
    "\n",
    "\n",
    "def octalToDecimal(n): \n",
    "      \n",
    "    num = n; \n",
    "    dec_value = 0; \n",
    "  \n",
    "    \n",
    "    base = 1; \n",
    "  \n",
    "    temp = num; \n",
    "    while (temp):\n",
    "        \n",
    "  \n",
    "        \n",
    "        last_digit = temp % 10; \n",
    "        temp = int(temp / 10); \n",
    "  \n",
    "      \n",
    "        dec_value += last_digit * base; \n",
    "  \n",
    "        base = base * 8; \n",
    "  \n",
    "    return dec_value; \n",
    "\n",
    "num = 67\n",
    "print(octalToDecimal(num));"
   ]
  }
 ],
 "metadata": {
  "kernelspec": {
   "display_name": "Python 3",
   "language": "python",
   "name": "python3"
  },
  "language_info": {
   "codemirror_mode": {
    "name": "ipython",
    "version": 3
   },
   "file_extension": ".py",
   "mimetype": "text/x-python",
   "name": "python",
   "nbconvert_exporter": "python",
   "pygments_lexer": "ipython3",
   "version": "3.7.3"
  }
 },
 "nbformat": 4,
 "nbformat_minor": 2
}
